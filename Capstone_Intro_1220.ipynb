{
 "cells": [
  {
   "cell_type": "markdown",
   "metadata": {},
   "source": [
    "# Capstone Project - The Battle of Neighborhoods (Week 1)"
   ]
  },
  {
   "cell_type": "markdown",
   "metadata": {},
   "source": [
    "# IN SEARCH OF A CITY"
   ]
  },
  {
   "cell_type": "markdown",
   "metadata": {},
   "source": [
    "This study is based upon a conclusion about a \"city\" and its neighborhood for the possibility of making an investment. In case if you are a Real estate Investor and you want to make an educated investment decision, you have to understand the demography of that place, pouplation informaton, its growth, Cost of living or real estate.\n",
    "\n",
    "Populations are never static, they grow or decline beacuse of various reasons- births, deaths or migration. In this report we will learn about where the Millenials are migrating to, we will learn about the population and its growth and other attributes .Via this report, you will also learn the geography of the city and learn about it neighborhood. \n",
    "\n",
    "You can use this report as a tool to devise a startegy for making an investment or , expanding a business or lay down the foundation of a new business. Hence we call this report as \" In search of a  City\""
   ]
  }
 ],
 "metadata": {
  "kernelspec": {
   "display_name": "Python 3",
   "language": "python",
   "name": "python3"
  },
  "language_info": {
   "codemirror_mode": {
    "name": "ipython",
    "version": 3
   },
   "file_extension": ".py",
   "mimetype": "text/x-python",
   "name": "python",
   "nbconvert_exporter": "python",
   "pygments_lexer": "ipython3",
   "version": "3.8.5"
  }
 },
 "nbformat": 4,
 "nbformat_minor": 4
}
